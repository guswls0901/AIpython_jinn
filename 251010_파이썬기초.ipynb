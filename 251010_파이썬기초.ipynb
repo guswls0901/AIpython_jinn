{
  "nbformat": 4,
  "nbformat_minor": 0,
  "metadata": {
    "colab": {
      "provenance": [],
      "authorship_tag": "ABX9TyOnN2ZjTz3b2QiQfZjmv6cd",
      "include_colab_link": true
    },
    "kernelspec": {
      "name": "python3",
      "display_name": "Python 3"
    },
    "language_info": {
      "name": "python"
    }
  },
  "cells": [
    {
      "cell_type": "markdown",
      "metadata": {
        "id": "view-in-github",
        "colab_type": "text"
      },
      "source": [
        "<a href=\"https://colab.research.google.com/github/guswls0901/AIpython_jinn/blob/main/251010_%ED%8C%8C%EC%9D%B4%EC%8D%AC%EA%B8%B0%EC%B4%88.ipynb\" target=\"_parent\"><img src=\"https://colab.research.google.com/assets/colab-badge.svg\" alt=\"Open In Colab\"/></a>"
      ]
    },
    {
      "cell_type": "code",
      "execution_count": 6,
      "metadata": {
        "id": "DcTNIsGnkS1L"
      },
      "outputs": [],
      "source": [
        "#영문자 5개가 있는 리스트 생성\n",
        "\n",
        "list = ['a','b','c','d','e']\n",
        "\n",
        "nums = [1,2,3,4,5]\n",
        "prices=[1000,2500,3000,1500,5000]"
      ]
    },
    {
      "cell_type": "code",
      "source": [
        "list"
      ],
      "metadata": {
        "colab": {
          "base_uri": "https://localhost:8080/"
        },
        "id": "9qXErsvtl3mW",
        "outputId": "947453a9-cbe5-41b6-ae68-b3ac3dc79500"
      },
      "execution_count": 4,
      "outputs": [
        {
          "output_type": "execute_result",
          "data": {
            "text/plain": [
              "['a', 'b', 'c', 'd', 'e']"
            ]
          },
          "metadata": {},
          "execution_count": 4
        }
      ]
    },
    {
      "cell_type": "code",
      "source": [
        "nums"
      ],
      "metadata": {
        "colab": {
          "base_uri": "https://localhost:8080/"
        },
        "id": "WstBsQNil5d1",
        "outputId": "dca7ab2e-271f-4090-d717-f204bf13305f"
      },
      "execution_count": 7,
      "outputs": [
        {
          "output_type": "execute_result",
          "data": {
            "text/plain": [
              "[1, 2, 3, 4, 5]"
            ]
          },
          "metadata": {},
          "execution_count": 7
        }
      ]
    },
    {
      "cell_type": "code",
      "source": [
        "for i in range(len(nums)):\n",
        "  nums[i]=nums[i]*10"
      ],
      "metadata": {
        "id": "kl503LQ8l-Ih"
      },
      "execution_count": 8,
      "outputs": []
    },
    {
      "cell_type": "code",
      "source": [
        "nums"
      ],
      "metadata": {
        "colab": {
          "base_uri": "https://localhost:8080/"
        },
        "id": "czTecRwhmTTd",
        "outputId": "2a64b4b7-e39a-46c2-e9b6-f26f0aed710a"
      },
      "execution_count": 9,
      "outputs": [
        {
          "output_type": "execute_result",
          "data": {
            "text/plain": [
              "[10, 20, 30, 40, 50]"
            ]
          },
          "metadata": {},
          "execution_count": 9
        }
      ]
    },
    {
      "cell_type": "code",
      "source": [
        "books = ['파이썬','C','G0','자바']"
      ],
      "metadata": {
        "id": "qzCSfwZ8peYy"
      },
      "execution_count": 24,
      "outputs": []
    },
    {
      "cell_type": "code",
      "source": [
        "books.extend(['C++','pascal'])"
      ],
      "metadata": {
        "id": "_I17T0SVp1lI"
      },
      "execution_count": 25,
      "outputs": []
    },
    {
      "cell_type": "code",
      "source": [
        "books.remove('C')"
      ],
      "metadata": {
        "id": "g1IlgFnDp7Ge"
      },
      "execution_count": 26,
      "outputs": []
    },
    {
      "cell_type": "code",
      "source": [
        "books"
      ],
      "metadata": {
        "colab": {
          "base_uri": "https://localhost:8080/"
        },
        "id": "X1HFLZPrp8t1",
        "outputId": "a09f4acb-d880-4763-ef1f-dc5b8d630327"
      },
      "execution_count": 27,
      "outputs": [
        {
          "output_type": "execute_result",
          "data": {
            "text/plain": [
              "['파이썬', 'G0', '자바', 'C++', 'pascal']"
            ]
          },
          "metadata": {},
          "execution_count": 27
        }
      ]
    },
    {
      "cell_type": "code",
      "source": [
        "nums.reverse()"
      ],
      "metadata": {
        "id": "w7V6i7veqNq8"
      },
      "execution_count": 28,
      "outputs": []
    },
    {
      "cell_type": "code",
      "source": [
        "nums"
      ],
      "metadata": {
        "colab": {
          "base_uri": "https://localhost:8080/"
        },
        "id": "ZNKUndzBqU1M",
        "outputId": "f3bfaef6-9e60-47ed-ef5c-77523181060a"
      },
      "execution_count": 29,
      "outputs": [
        {
          "output_type": "execute_result",
          "data": {
            "text/plain": [
              "[10, 20, 30, 40, 50]"
            ]
          },
          "metadata": {},
          "execution_count": 29
        }
      ]
    },
    {
      "cell_type": "code",
      "source": [
        "'자바' in books"
      ],
      "metadata": {
        "colab": {
          "base_uri": "https://localhost:8080/"
        },
        "id": "D0A-3GLBqsZf",
        "outputId": "a7759ea4-eef9-4106-f34f-cb252bc66e6f"
      },
      "execution_count": 30,
      "outputs": [
        {
          "output_type": "execute_result",
          "data": {
            "text/plain": [
              "True"
            ]
          },
          "metadata": {},
          "execution_count": 30
        }
      ]
    },
    {
      "cell_type": "code",
      "source": [
        "'java' in books"
      ],
      "metadata": {
        "colab": {
          "base_uri": "https://localhost:8080/"
        },
        "id": "kWuelzxWrJtf",
        "outputId": "14057b36-db9b-4715-c0e5-e1314d4be957"
      },
      "execution_count": 31,
      "outputs": [
        {
          "output_type": "execute_result",
          "data": {
            "text/plain": [
              "False"
            ]
          },
          "metadata": {},
          "execution_count": 31
        }
      ]
    },
    {
      "cell_type": "code",
      "source": [
        "import random\n",
        "random.choice(books)"
      ],
      "metadata": {
        "colab": {
          "base_uri": "https://localhost:8080/",
          "height": 35
        },
        "id": "I4dqActurNhT",
        "outputId": "ded68f49-5779-4de2-93b9-eb70aae39d34"
      },
      "execution_count": 44,
      "outputs": [
        {
          "output_type": "execute_result",
          "data": {
            "text/plain": [
              "'C++'"
            ],
            "application/vnd.google.colaboratory.intrinsic+json": {
              "type": "string"
            }
          },
          "metadata": {},
          "execution_count": 44
        }
      ]
    },
    {
      "cell_type": "code",
      "source": [
        "max(prices)"
      ],
      "metadata": {
        "colab": {
          "base_uri": "https://localhost:8080/"
        },
        "id": "TqfpJypjsXCB",
        "outputId": "dd57465e-48c9-4533-ebad-5828af91933b"
      },
      "execution_count": 45,
      "outputs": [
        {
          "output_type": "execute_result",
          "data": {
            "text/plain": [
              "5000"
            ]
          },
          "metadata": {},
          "execution_count": 45
        }
      ]
    },
    {
      "cell_type": "code",
      "source": [
        "sum(prices)"
      ],
      "metadata": {
        "colab": {
          "base_uri": "https://localhost:8080/"
        },
        "id": "Y5lCYS5LsZMB",
        "outputId": "02445ec0-47cd-4c7c-cc53-8514ffed64c0"
      },
      "execution_count": 46,
      "outputs": [
        {
          "output_type": "execute_result",
          "data": {
            "text/plain": [
              "13000"
            ]
          },
          "metadata": {},
          "execution_count": 46
        }
      ]
    },
    {
      "cell_type": "code",
      "source": [
        "dynasties = [\n",
        "    '태조', '정종', '태종', '세종', '문종',\n",
        "    '단종', '세조', '예종', '성종', '연산군',\n",
        "    '중종', '인종', '명종', '선조', '광해군',\n",
        "    '인조', '효종', '현종', '숙종', '경종',\n",
        "    '영조', '정조', '순조', '헌종', '철종',\n",
        "    '고종', '순종'\n",
        "]"
      ],
      "metadata": {
        "id": "JO2PQp1kt9N2"
      },
      "execution_count": 53,
      "outputs": []
    },
    {
      "cell_type": "code",
      "metadata": {
        "colab": {
          "base_uri": "https://localhost:8080/"
        },
        "id": "d60388ce",
        "outputId": "6821d35b-0cfe-419a-fd8c-c224cdb92747"
      },
      "source": [
        "try:\n",
        "    order = int(input(\"조선 왕의 순번을 1부터 27까지 입력하세요: \"))\n",
        "    # 리스트 인덱스는 0부터 시작하므로 입력값에서 1을 뺌\n",
        "    index = order - 1\n",
        "    print(f\"{order}번째 왕의 묘호: {dynasties[index]}\")\n",
        "except (ValueError, IndexError):\n",
        "    print(\"유효하지 않은 순번입니다. 1부터 27까지의 숫자를 입력해주세요.\")"
      ],
      "execution_count": 55,
      "outputs": [
        {
          "output_type": "stream",
          "name": "stdout",
          "text": [
            "조선 왕의 순번을 1부터 27까지 입력하세요: 25\n",
            "25번째 왕의 묘호: 철종\n"
          ]
        }
      ]
    },
    {
      "cell_type": "code",
      "source": [
        "ans=input(\"순번 또는 왕의 이름을 입력\")\n",
        "if ans.isdigit():\n",
        "  i=int(ans)\n",
        "  print(dynasties[i-1])\n",
        "else:\n",
        "  print(dynasties.index(ans)+1)"
      ],
      "metadata": {
        "colab": {
          "base_uri": "https://localhost:8080/"
        },
        "id": "1f6w_z9S53OM",
        "outputId": "50d6ae9e-3f5b-4d9a-a3b2-9efc581776e7"
      },
      "execution_count": 92,
      "outputs": [
        {
          "output_type": "stream",
          "name": "stdout",
          "text": [
            "순번 또는 왕의 이름을 입력태종\n",
            "3\n"
          ]
        }
      ]
    },
    {
      "cell_type": "code",
      "source": [
        "for i in range(len(dynasties)):\n",
        "  print(f\"{i+1}대 {dynasties[i]}\")"
      ],
      "metadata": {
        "colab": {
          "base_uri": "https://localhost:8080/"
        },
        "id": "mg2ndX8PuzXH",
        "outputId": "e8f54e62-55e3-4074-eadd-53557ac639fb"
      },
      "execution_count": 59,
      "outputs": [
        {
          "output_type": "stream",
          "name": "stdout",
          "text": [
            "1대 태조\n",
            "2대 정종\n",
            "3대 태종\n",
            "4대 세종\n",
            "5대 문종\n",
            "6대 단종\n",
            "7대 세조\n",
            "8대 예종\n",
            "9대 성종\n",
            "10대 연산군\n",
            "11대 중종\n",
            "12대 인종\n",
            "13대 명종\n",
            "14대 선조\n",
            "15대 광해군\n",
            "16대 인조\n",
            "17대 효종\n",
            "18대 현종\n",
            "19대 숙종\n",
            "20대 경종\n",
            "21대 영조\n",
            "22대 정조\n",
            "23대 순조\n",
            "24대 헌종\n",
            "25대 철종\n",
            "26대 고종\n",
            "27대 순종\n"
          ]
        }
      ]
    },
    {
      "cell_type": "code",
      "source": [
        "char1=\"'한글'사용법\""
      ],
      "metadata": {
        "id": "CX8UGMruzaX8"
      },
      "execution_count": 61,
      "outputs": []
    },
    {
      "cell_type": "code",
      "source": [
        "char1"
      ],
      "metadata": {
        "colab": {
          "base_uri": "https://localhost:8080/",
          "height": 35
        },
        "id": "DIYvwKF00rLs",
        "outputId": "9f4a981b-2136-48d6-e249-5fa82bdabc56"
      },
      "execution_count": 62,
      "outputs": [
        {
          "output_type": "execute_result",
          "data": {
            "text/plain": [
              "\"'한글'사용법\""
            ],
            "application/vnd.google.colaboratory.intrinsic+json": {
              "type": "string"
            }
          },
          "metadata": {},
          "execution_count": 62
        }
      ]
    },
    {
      "cell_type": "code",
      "source": [
        "char1='한글\\n사용법'"
      ],
      "metadata": {
        "id": "DJIdMqRF1YjI"
      },
      "execution_count": 72,
      "outputs": []
    },
    {
      "cell_type": "code",
      "source": [
        "char1"
      ],
      "metadata": {
        "colab": {
          "base_uri": "https://localhost:8080/",
          "height": 35
        },
        "id": "c_K3GIfo1dGJ",
        "outputId": "ed9e6686-6c5b-47b1-8c33-17eac446e7be"
      },
      "execution_count": 73,
      "outputs": [
        {
          "output_type": "execute_result",
          "data": {
            "text/plain": [
              "'한글\\n사용법'"
            ],
            "application/vnd.google.colaboratory.intrinsic+json": {
              "type": "string"
            }
          },
          "metadata": {},
          "execution_count": 73
        }
      ]
    },
    {
      "cell_type": "code",
      "source": [
        "char2='메뉴얼'"
      ],
      "metadata": {
        "id": "FwUKjjIL11Ii"
      },
      "execution_count": 76,
      "outputs": []
    },
    {
      "cell_type": "code",
      "source": [
        "print(char1+char2)"
      ],
      "metadata": {
        "colab": {
          "base_uri": "https://localhost:8080/"
        },
        "id": "ONItly8t15LC",
        "outputId": "4e3c557c-a54f-4f65-b3e3-52b58376cb5d"
      },
      "execution_count": 78,
      "outputs": [
        {
          "output_type": "stream",
          "name": "stdout",
          "text": [
            "한글\n",
            "사용법메뉴얼\n"
          ]
        }
      ]
    },
    {
      "cell_type": "code",
      "source": [
        "s='hello'*5"
      ],
      "metadata": {
        "id": "t_rVlclL18RJ"
      },
      "execution_count": 79,
      "outputs": []
    },
    {
      "cell_type": "code",
      "source": [
        "s"
      ],
      "metadata": {
        "colab": {
          "base_uri": "https://localhost:8080/",
          "height": 35
        },
        "id": "2vcJZv1k2Cvd",
        "outputId": "165d4659-abbe-4b17-cb26-004a8f6f4b6c"
      },
      "execution_count": 80,
      "outputs": [
        {
          "output_type": "execute_result",
          "data": {
            "text/plain": [
              "'hellohellohellohellohello'"
            ],
            "application/vnd.google.colaboratory.intrinsic+json": {
              "type": "string"
            }
          },
          "metadata": {},
          "execution_count": 80
        }
      ]
    },
    {
      "cell_type": "code",
      "source": [
        "'Python'.lower()"
      ],
      "metadata": {
        "colab": {
          "base_uri": "https://localhost:8080/",
          "height": 35
        },
        "id": "sRwHbm5n2Dw1",
        "outputId": "d7f24865-2b82-4f4f-c5a3-8ddffce072d3"
      },
      "execution_count": 81,
      "outputs": [
        {
          "output_type": "execute_result",
          "data": {
            "text/plain": [
              "'python'"
            ],
            "application/vnd.google.colaboratory.intrinsic+json": {
              "type": "string"
            }
          },
          "metadata": {},
          "execution_count": 81
        }
      ]
    },
    {
      "cell_type": "code",
      "source": [
        "ord('a')"
      ],
      "metadata": {
        "colab": {
          "base_uri": "https://localhost:8080/"
        },
        "id": "sdJYcGGB4Z32",
        "outputId": "8e4f0fe9-e0ab-494e-c221-a9efe581ba74"
      },
      "execution_count": 82,
      "outputs": [
        {
          "output_type": "execute_result",
          "data": {
            "text/plain": [
              "97"
            ]
          },
          "metadata": {},
          "execution_count": 82
        }
      ]
    },
    {
      "cell_type": "code",
      "source": [
        "ans=input(\"데이터를 입력\")\n",
        "if ans.isdigit():\n",
        "  print(\"숫자입니다.\")\n",
        "\n",
        "else:\n",
        "  print(\"문자입니다.\")"
      ],
      "metadata": {
        "colab": {
          "base_uri": "https://localhost:8080/"
        },
        "id": "TM4U1GOZ4bcP",
        "outputId": "d0e92084-f829-4647-b597-ebaaa003b5b6"
      },
      "execution_count": 85,
      "outputs": [
        {
          "output_type": "stream",
          "name": "stdout",
          "text": [
            "데이터를 입력89\n",
            "숫자입니다.\n"
          ]
        }
      ]
    },
    {
      "cell_type": "code",
      "source": [
        "t=[1,2,3,4,5]"
      ],
      "metadata": {
        "id": "uTIXpuUq5KK0"
      },
      "execution_count": null,
      "outputs": []
    },
    {
      "cell_type": "code",
      "source": [
        "coffe={'아메리카노':2000,'라테':3000,'녹차':2500}"
      ],
      "metadata": {
        "id": "6CqHTEpQ-2fz"
      },
      "execution_count": 94,
      "outputs": []
    },
    {
      "cell_type": "code",
      "source": [
        "coffe['아메리카노']"
      ],
      "metadata": {
        "colab": {
          "base_uri": "https://localhost:8080/"
        },
        "id": "0WlXmYrw-7_H",
        "outputId": "3126560d-1bdc-4a7a-9213-32e086de64fd"
      },
      "execution_count": 95,
      "outputs": [
        {
          "output_type": "execute_result",
          "data": {
            "text/plain": [
              "2000"
            ]
          },
          "metadata": {},
          "execution_count": 95
        }
      ]
    },
    {
      "cell_type": "code",
      "source": [
        "for k in coffe:\n",
        "  print(coffe[k])"
      ],
      "metadata": {
        "colab": {
          "base_uri": "https://localhost:8080/"
        },
        "id": "TYTK148_--WW",
        "outputId": "6001192d-ac23-4f92-a59c-35d5e16b67a4"
      },
      "execution_count": 98,
      "outputs": [
        {
          "output_type": "stream",
          "name": "stdout",
          "text": [
            "2000\n",
            "3000\n",
            "2500\n"
          ]
        }
      ]
    },
    {
      "cell_type": "code",
      "source": [
        "for k,v in coffe.items():\n",
        "  print(f\"{k}: {v}\")"
      ],
      "metadata": {
        "colab": {
          "base_uri": "https://localhost:8080/"
        },
        "id": "Yg8GIGx9_gMl",
        "outputId": "8ba4c928-ffd8-4e0c-855d-e9bdc134f439"
      },
      "execution_count": 101,
      "outputs": [
        {
          "output_type": "stream",
          "name": "stdout",
          "text": [
            "아메리카노: 2000\n",
            "라테: 3000\n",
            "녹차: 2500\n"
          ]
        }
      ]
    },
    {
      "cell_type": "code",
      "source": [
        "score={'홍길동':100,'이순신':90,'강감찬':80}\n",
        "\n",
        "# 전체 학생의 총점 계산\n",
        "total_score = sum(score.values())\n",
        "print(f\"전체 학생의 총점: {total_score}\")\n",
        "\n",
        "# 전체 학생의 평균 계산\n",
        "average_score = total_score / len(score)\n",
        "print(f\"전체 학생의 평균: {average_score:.2f}\")\n",
        "\n",
        "# 가장 점수가 높은 학생의 이름 찾기\n",
        "highest_score_student = max(score, key=score.get)\n",
        "print(f\"가장 점수가 높은 학생: {highest_score_student}\")"
      ],
      "metadata": {
        "colab": {
          "base_uri": "https://localhost:8080/"
        },
        "id": "CfFY5qCf_-lA",
        "outputId": "35272137-aabd-45af-b20b-51385f355466"
      },
      "execution_count": 104,
      "outputs": [
        {
          "output_type": "stream",
          "name": "stdout",
          "text": [
            "전체 학생의 총점: 270\n",
            "전체 학생의 평균: 90.00\n",
            "가장 점수가 높은 학생: 홍길동\n"
          ]
        }
      ]
    },
    {
      "cell_type": "code",
      "source": [],
      "metadata": {
        "id": "7mC9wcoIA1L_"
      },
      "execution_count": null,
      "outputs": []
    }
  ]
}