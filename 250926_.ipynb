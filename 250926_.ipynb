{
  "nbformat": 4,
  "nbformat_minor": 0,
  "metadata": {
    "colab": {
      "provenance": []
    },
    "kernelspec": {
      "name": "python3",
      "display_name": "Python 3"
    },
    "language_info": {
      "name": "python"
    }
  },
  "cells": [
    {
      "cell_type": "code",
      "execution_count": null,
      "metadata": {
        "colab": {
          "base_uri": "https://localhost:8080/"
        },
        "id": "Ydlwn2p9fO9T",
        "outputId": "7222d754-5fd3-4cd4-97a2-937f16c9ede3"
      },
      "outputs": [
        {
          "output_type": "stream",
          "name": "stdout",
          "text": [
            "숫자를 입력하세요: 653199\n",
            "홀수입니다\n"
          ]
        }
      ],
      "source": [
        "num = int(input(\"숫자를 입력하세요: \"))\n",
        "if num %2 == 0:\n",
        "  print(\"짝수입니다\")\n",
        "else:\n",
        "  print(\"홀수입니다\")"
      ]
    },
    {
      "cell_type": "code",
      "source": [
        "height1 = int(input(\"첫 번째 학생의 키를 입력하세요: \"))\n",
        "height2 = int(input(\"두 번째 학생의 키를 입력하세요: \"))\n",
        "\n",
        "if height1 > height2:\n",
        "  diff = height1 - height2\n",
        "else:\n",
        "  diff = height2 - height1\n",
        "\n",
        "print(\"두 학생의 키 차이는\",diff,\"입니다.\")"
      ],
      "metadata": {
        "colab": {
          "base_uri": "https://localhost:8080/"
        },
        "id": "ezX4JBQghQZp",
        "outputId": "c094cb18-108e-4947-b643-0fa1eb44e6d3"
      },
      "execution_count": null,
      "outputs": [
        {
          "output_type": "stream",
          "name": "stdout",
          "text": [
            "첫 번째 학생의 키를 입력하세요: 167\n",
            "두 번째 학생의 키를 입력하세요: 185\n",
            "두 학생의 키 차이는 18 입니다.\n"
          ]
        }
      ]
    },
    {
      "cell_type": "code",
      "source": [
        "age = int(input(\"나이를 입력하세요: \"))\n",
        "fee = 5000\n",
        "\n",
        "if age<8 or age>=65:\n",
        "  fee = 0\n",
        "elif age >=8 and age < 14:\n",
        "  fee = fee*0.5\n",
        "elif age >=14 and age<19:\n",
        "  fee = fee*0.75\n",
        "else:\n",
        "  fee = fee\n",
        "\n",
        "print(\"입장료는\",int(fee),\"원입니다.\")"
      ],
      "metadata": {
        "colab": {
          "base_uri": "https://localhost:8080/"
        },
        "id": "OTe4GGuYjAhG",
        "outputId": "216a8bb0-5d21-4a88-e739-e68fb2896d8f"
      },
      "execution_count": null,
      "outputs": [
        {
          "output_type": "stream",
          "name": "stdout",
          "text": [
            "나이를 입력하세요: 6\n",
            "입장료는 0 원입니다.\n"
          ]
        }
      ]
    },
    {
      "cell_type": "code",
      "source": [
        "grade = int(input(\"점수를 입력하세요: \"))\n",
        "\n",
        "if grade >= 90:\n",
        "  print(\"A\")\n",
        "elif grade>=70 and grade<90:\n",
        "  print(\"B\")\n",
        "elif grade>=60 and grade<70:\n",
        "  print(\"C\")\n",
        "elif grade<60 and grade>=0:\n",
        "  print(\"D\")\n",
        "else:\n",
        "  print(\"잘못된 점수입니다.\")"
      ],
      "metadata": {
        "colab": {
          "base_uri": "https://localhost:8080/"
        },
        "id": "vmCgJzT9mc_9",
        "outputId": "223eba5f-1b6b-47fe-f83d-a2ed93a6f88c"
      },
      "execution_count": null,
      "outputs": [
        {
          "output_type": "stream",
          "name": "stdout",
          "text": [
            "점수를 입력하세요: 87\n",
            "B\n"
          ]
        }
      ]
    },
    {
      "cell_type": "code",
      "source": [
        "#중첩구조를 활용: if 안에 if가 있다면?\n",
        "\n",
        "score = int(input(\"점수를 입력하세요: \"))\n",
        "\n",
        "if score>=0 and score <=100:\n",
        "  if score >= 90:\n",
        "    print(\"학점:A\")\n",
        "  elif score >= 70:\n",
        "    print(\"학점:B\")\n",
        "  elif score >= 60:\n",
        "    print(\"학점:C\")\n",
        "  else:\n",
        "    print(\"학점:D\")\n",
        "\n",
        "else:\n",
        "  print(\"잘못된 점수입니다.\")"
      ],
      "metadata": {
        "colab": {
          "base_uri": "https://localhost:8080/"
        },
        "id": "Bgkka3uRpTvN",
        "outputId": "6fe9dd3c-7347-4f4e-85ea-362f4bbcda6b"
      },
      "execution_count": null,
      "outputs": [
        {
          "output_type": "stream",
          "name": "stdout",
          "text": [
            "점수를 입력하세요: 65\n",
            "학점:C\n"
          ]
        }
      ]
    },
    {
      "cell_type": "code",
      "source": [
        "sum = 0\n",
        "\n",
        "for a in range(1,6):\n",
        "  sum = sum + a\n",
        "\n",
        "print(\"1부터 5까지의 합은\",sum,\"입니다.\")\n",
        "\n",
        "#들여쓰기, 내어쓰기가 중요하다~!"
      ],
      "metadata": {
        "colab": {
          "base_uri": "https://localhost:8080/"
        },
        "id": "CkiNNUOotTzE",
        "outputId": "1778661b-8d07-4789-f56b-ee08b01ec3ef"
      },
      "execution_count": null,
      "outputs": [
        {
          "output_type": "stream",
          "name": "stdout",
          "text": [
            "1부터 5까지의 합은 15 입니다.\n"
          ]
        }
      ]
    },
    {
      "cell_type": "code",
      "source": [
        "sum = 0\n",
        "for a in range(1,101):\n",
        "  sum = sum + a\n",
        "print(\"1부터 100까지의 합은\",sum,\"입니다.\")"
      ],
      "metadata": {
        "colab": {
          "base_uri": "https://localhost:8080/"
        },
        "id": "mNunxuSkxEWJ",
        "outputId": "1994ff0f-e1b0-4446-ba7f-faf5a481d65f"
      },
      "execution_count": null,
      "outputs": [
        {
          "output_type": "stream",
          "name": "stdout",
          "text": [
            "1부터 100까지의 합은 5050 입니다.\n"
          ]
        }
      ]
    },
    {
      "cell_type": "code",
      "source": [
        "#1~100까지의 수 중 짝수의 합과 홀수의 합 따로 구하기\n",
        "\n",
        "even_sum = 0\n",
        "odd_sum = 0\n",
        "\n",
        "for a in range(1,101):\n",
        "  if a % 2 == 0:\n",
        "    even_sum = even_sum + a\n",
        "  else:\n",
        "    odd_sum = odd_sum + a\n",
        "\n",
        "print(\"1~100까지의 수 중 짝수의 합은\", even_sum, \"입니다.\")\n",
        "print(\"1~100까지의 수 중 홀수의 합은\", odd_sum, \"입니다.\")"
      ],
      "metadata": {
        "colab": {
          "base_uri": "https://localhost:8080/"
        },
        "id": "gC9DXS22ySC7",
        "outputId": "12210134-daa5-42f9-975c-7e3cb6522c70"
      },
      "execution_count": null,
      "outputs": [
        {
          "output_type": "stream",
          "name": "stdout",
          "text": [
            "1~100까지의 수 중 짝수의 합은 2550 입니다.\n",
            "1~100까지의 수 중 홀수의 합은 2500 입니다.\n"
          ]
        }
      ]
    },
    {
      "cell_type": "markdown",
      "metadata": {
        "id": "e65a648e"
      },
      "source": [
        "### `range()` 함수\n",
        "\n",
        "`range()` 함수는 지정된 범위의 정수를 순차적으로 생성하는 이터레이터(iterator)를 반환합니다. `list()` 함수와 함께 사용하여 리스트 형태로 확인할 수 있습니다.\n",
        "\n",
        "**사용 방법:**\n",
        "\n",
        "1.  **`range(stop)`**: 0부터 `stop - 1`까지의 정수를 생성합니다. `stop` 값은 포함되지 않습니다."
      ]
    },
    {
      "cell_type": "code",
      "metadata": {
        "id": "e3762781"
      },
      "source": [
        "    # 예시: 2부터 6까지 (7은 포함 안 됨)\n",
        "    print(list(range(2, 7)))"
      ],
      "execution_count": null,
      "outputs": []
    },
    {
      "cell_type": "code",
      "metadata": {
        "id": "e3227f33"
      },
      "source": [
        "    # 예시: 1부터 10까지 2씩 증가\n",
        "    print(list(range(1, 11, 2)))\n",
        "\n",
        "    # 예시: 10부터 1까지 1씩 감소\n",
        "    print(list(range(10, 0, -1)))"
      ],
      "execution_count": null,
      "outputs": []
    },
    {
      "cell_type": "code",
      "source": [
        "#1~100까지 짝수합과 홀수합을 출력하시오\n",
        "\n",
        "sum = 0\n",
        "for a in range(1,101,2):\n",
        "  sum = sum + a\n",
        "print(\"1부터 100까지의 홀수 합은\",sum,\"입니다.\")\n",
        "\n",
        "sum = 0\n",
        "for a in range(0,101,2):\n",
        "  sum = sum + a\n",
        "print(\"1부터 100까지의 짝수 합은\",sum,\"입니다.\")"
      ],
      "metadata": {
        "colab": {
          "base_uri": "https://localhost:8080/"
        },
        "id": "f0f00fEC15uQ",
        "outputId": "ec68dd3b-9961-4c33-8d8f-a51c03ec4d28"
      },
      "execution_count": null,
      "outputs": [
        {
          "output_type": "stream",
          "name": "stdout",
          "text": [
            "1부터 100까지의 홀수 합은 2500 입니다.\n",
            "1부터 100까지의 짝수 합은 2550 입니다.\n"
          ]
        }
      ]
    },
    {
      "cell_type": "code",
      "source": [
        "#5만원 모으기\n",
        "\n",
        "sum = 0\n",
        "money = 100\n",
        "day = 1\n",
        "\n",
        "while sum < 50000:\n",
        "  sum = sum + money\n",
        "  money = money + 100\n",
        "  day = day + 1\n",
        "\n",
        "print(\"총\",day,\"일이 걸립니다.\")"
      ],
      "metadata": {
        "colab": {
          "base_uri": "https://localhost:8080/"
        },
        "id": "8wiXH-sN26p5",
        "outputId": "d003f5bd-3262-4c34-9d34-40036f88b523"
      },
      "execution_count": null,
      "outputs": [
        {
          "output_type": "stream",
          "name": "stdout",
          "text": [
            "총 33 일이 걸립니다.\n"
          ]
        }
      ]
    },
    {
      "cell_type": "code",
      "source": [
        "#숫자를 입력받아서 총합을 구하는 프로그램을 작성하시오. 단 0을 입력되면 종료되고 최종 총합을 출력한다.\n",
        "\n",
        "total_sum = 0\n",
        "\n",
        "while True:\n",
        "  num = int(input(\"숫자를 입력하세요 (종료하려면 0 입력): \"))\n",
        "  if num == 0:\n",
        "    break\n",
        "  total_sum = total_sum + num\n",
        "\n",
        "print(\"입력된 숫자들의 총합은\", total_sum, \"입니다.\") # 최종 총합 출력"
      ],
      "metadata": {
        "colab": {
          "base_uri": "https://localhost:8080/"
        },
        "id": "rHM7ogXB4Mgh",
        "outputId": "a9b99b91-23fe-4442-bfff-d683e437828c"
      },
      "execution_count": null,
      "outputs": [
        {
          "output_type": "stream",
          "name": "stdout",
          "text": [
            "숫자를 입력하세요 (종료하려면 0 입력): 524\n",
            "숫자를 입력하세요 (종료하려면 0 입력): 222\n",
            "숫자를 입력하세요 (종료하려면 0 입력): 62\n",
            "숫자를 입력하세요 (종료하려면 0 입력): 81\n",
            "숫자를 입력하세요 (종료하려면 0 입력): 2\n",
            "숫자를 입력하세요 (종료하려면 0 입력): 0\n",
            "입력된 숫자들의 총합은 891 입니다.\n"
          ]
        }
      ]
    }
  ]
}